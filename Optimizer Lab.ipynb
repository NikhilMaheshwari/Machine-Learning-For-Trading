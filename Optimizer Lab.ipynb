{
 "cells": [
  {
   "cell_type": "code",
   "execution_count": 24,
   "metadata": {
    "collapsed": true
   },
   "outputs": [],
   "source": [
    "import pandas as pd\n",
    "import numpy as np\n",
    "import matplotlib.pyplot as plt\n",
    "import scipy.optimize as spo\n"
   ]
  },
  {
   "cell_type": "code",
   "execution_count": 25,
   "metadata": {
    "collapsed": true
   },
   "outputs": [],
   "source": [
    "def f(X):\n",
    "    Y = (X-1.5)**2 + 0.5\n",
    "    print(\"X = {}, Y = {}\".format(X,Y))\n",
    "    return Y"
   ]
  },
  {
   "cell_type": "code",
   "execution_count": 26,
   "metadata": {
    "collapsed": false
   },
   "outputs": [
    {
     "name": "stdout",
     "output_type": "stream",
     "text": [
      "X = [ 2.], Y = [ 0.75]\n",
      "X = [ 2.], Y = [ 0.75]\n",
      "X = [ 2.00000001], Y = [ 0.75000001]\n",
      "X = [ 0.99999999], Y = [ 0.75000001]\n",
      "X = [ 1.5], Y = [ 0.5]\n",
      "X = [ 1.5], Y = [ 0.5]\n",
      "X = [ 1.50000001], Y = [ 0.5]\n",
      "Optimization terminated successfully.    (Exit mode 0)\n",
      "            Current function value: [ 0.5]\n",
      "            Iterations: 2\n",
      "            Function evaluations: 7\n",
      "            Gradient evaluations: 2\n",
      "Minima found at : \n",
      "X = [ 1.5], Y = [ 0.5]\n"
     ]
    }
   ],
   "source": [
    "Xguess = 2.0\n",
    "min_result = spo.minimize(f, Xguess, method='SLSQP',options={'disp':True})\n",
    "print(\"Minima found at : \")\n",
    "print(\"X = {}, Y = {}\".format(min_result.x,min_result.fun))"
   ]
  },
  {
   "cell_type": "code",
   "execution_count": 27,
   "metadata": {
    "collapsed": false
   },
   "outputs": [
    {
     "name": "stdout",
     "output_type": "stream",
     "text": [
      "X = [ 0.5  0.6  0.7  0.8  0.9  1.   1.1  1.2  1.3  1.4  1.5  1.6  1.7  1.8  1.9\n",
      "  2.   2.1  2.2  2.3  2.4  2.5], Y = [ 1.5   1.31  1.14  0.99  0.86  0.75  0.66  0.59  0.54  0.51  0.5   0.51\n",
      "  0.54  0.59  0.66  0.75  0.86  0.99  1.14  1.31  1.5 ]\n"
     ]
    },
    {
     "data": {
      "image/png": "[encoded data removed]",
      "text/plain": [
       "<matplotlib.figure.Figure at 0x1084e54a8>"
      ]
     },
     "metadata": {},
     "output_type": "display_data"
    }
   ],
   "source": [
    "Xplot = np.linspace(0.5,2.5,21)\n",
    "Yplot = f(Xplot)\n",
    "plt.plot(Xplot, Yplot)\n",
    "plt.plot(min_result.x,min_result.fun,'ro')\n",
    "plt.title(\"Minima of an objective function\")\n",
    "plt.show()"
   ]
  },
  {
   "cell_type": "code",
   "execution_count": 41,
   "metadata": {
    "collapsed": false
   },
   "outputs": [],
   "source": [
    "def fit_line(data, error_func):\n",
    "    \"\"\"\n",
    "    fit a line to given data, using given error function\n",
    "    \n",
    "    data: 2D array with row having point info\n",
    "    error_func : function that computes error between a line and observer data\n",
    "    \n",
    "    returns line that minimizes the error function\n",
    "    \"\"\"\n",
    "    #generate initial guess for line model\n",
    "    l = np.float32([0,np.mean(data[:,1])])\n",
    "    \n",
    "    #plot initial guess\n",
    "    x_ends = np.float32([-5,5])\n",
    "    plt.plot(x_ends,(l[0])*(x_ends)+l[1],'m--',linewidth=2.0, label='Initial Guess')\n",
    "    \n",
    "    result = spo.minimize(error_func, l,args=(data,),method='SLSQP',options={'disp':True})\n",
    "    return result.x\n",
    "\n",
    "def error(line,data):\n",
    "    err = np.sum((data[:,1]-((line[0]) * (data[:,0]) + line[1])) ** 2)\n",
    "    return err"
   ]
  },
  {
   "cell_type": "code",
   "execution_count": 43,
   "metadata": {
    "collapsed": false
   },
   "outputs": [
    {
     "name": "stdout",
     "output_type": "stream",
     "text": [
      "Original line : C0 = 4.0, C1 = 2.0\n",
      "Optimization terminated successfully.    (Exit mode 0)\n",
      "            Current function value: 174.654166695\n",
      "            Iterations: 5\n",
      "            Function evaluations: 24\n",
      "            Gradient evaluations: 5\n",
      "fitted line : C0 = 3.953314734316417, C1 = 2.2084113803722567\n"
     ]
    },
    {
     "data": {
      "image/png": "[encoded data removed]",
      "text/plain": [
       "<matplotlib.figure.Figure at 0x10886f5f8>"
      ]
     },
     "metadata": {},
     "output_type": "display_data"
    }
   ],
   "source": [
    "l_orig = np.float32([4,2])\n",
    "print(\"Original line : C0 = {}, C1 = {}\".format(l_orig[0],l_orig[1]))\n",
    "Xorig = np.linspace(0,10,21)\n",
    "Yorig = l_orig[0]*Xorig + l_orig[1]\n",
    "plt.plot(Xorig, Yorig,'b--',linewidth=2.0,label=\"original line\")\n",
    "\n",
    "# Generate noisy data\n",
    "noise_sigma = 3.0\n",
    "noise = np.random.normal(0, noise_sigma, Yorig.shape)\n",
    "data = np.asarray([Xorig, Yorig+noise]).T\n",
    "plt.plot(data[:,0],data[:,1],'go',label='Data points')\n",
    "\n",
    "# try to fit line to this data\n",
    "l_fit = fit_line(data, error)\n",
    "print(\"fitted line : C0 = {}, C1 = {}\".format(l_fit[0],l_fit[1]))\n",
    "plt.plot(data[:,0],l_fit[0]*data[:,1]+l_fit[1],'r--',linewidth=2.0, label='Fit line')\n",
    "\n",
    "plt.legend(loc=\"upper left\")\n",
    "plt.show()\n"
   ]
  },
  {
   "cell_type": "code",
   "execution_count": null,
   "metadata": {
    "collapsed": true
   },
   "outputs": [],
   "source": []
  },
  {
   "cell_type": "code",
   "execution_count": null,
   "metadata": {
    "collapsed": true
   },
   "outputs": [],
   "source": []
  }
 ],
 "metadata": {
  "kernelspec": {
   "display_name": "Python 3",
   "language": "python",
   "name": "python3"
  },
  "language_info": {
   "codemirror_mode": {
    "name": "ipython",
    "version": 3
   },
   "file_extension": ".py",
   "mimetype": "text/x-python",
   "name": "python",
   "nbconvert_exporter": "python",
   "pygments_lexer": "ipython3",
   "version": "3.5.2"
  }
 },
 "nbformat": 4,
 "nbformat_minor": 0
}
